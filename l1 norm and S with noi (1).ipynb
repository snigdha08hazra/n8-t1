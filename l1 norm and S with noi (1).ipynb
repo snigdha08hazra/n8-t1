{
 "cells": [
  {
   "cell_type": "code",
   "execution_count": 1,
   "id": "7ced57ef",
   "metadata": {},
   "outputs": [],
   "source": [
    "from qiskit.quantum_info import Statevector, Operator\n",
    "from qiskit import QuantumCircuit, Aer, execute\n",
    "import numpy as np\n",
    "import math\n",
    "import matplotlib.pyplot as pl\n",
    "import random"
   ]
  },
  {
   "cell_type": "markdown",
   "id": "3f391b16",
   "metadata": {},
   "source": [
    "To plot coherence l1 norm (l1), relative entropy(S) and success probability(P) as a funciton of number of iteration(noi) taking the Grover's operator as G = DO"
   ]
  },
  {
   "cell_type": "markdown",
   "id": "bb4eb2d5",
   "metadata": {},
   "source": [
    "O = ( I-2|ψ⟩⟨ψ| ) and D = ( 2|ψ1⟩⟨ψ1|-I )"
   ]
  },
  {
   "attachments": {
    "image-3.png": {
     "image/png": "[encoded data removed]"
    },
    "image-4.png": {
     "image/png": "[encoded data removed]"
    },
    "image-5.png": {
     "image/png": "[encoded data removed]"
    },
    "image-6.png": {
     "image/png": "[encoded data removed]"
    },
    "image-7.png": {
     "image/png": "[encoded data removed]"
    },
    "image-8.png": {
     "image/png": "[encoded data removed]"
    },
    "image.png": {
     "image/png": "[encoded data removed]"
    }
   },
   "cell_type": "markdown",
   "id": "318c0daf",
   "metadata": {},
   "source": [
    "l1 norm of coherence is given by![image.png](attachment:image.png)\n",
    "\n",
    "relative entropy is given by![image-8.png](attachment:image-8.png) with \n",
    "\n",
    "![image-3.png](attachment:image-3.png)   ;   ![image-4.png](attachment:image-4.png)   ;   ![image-5.png](attachment:image-5.png)   ;   ![image-6.png](attachment:image-6.png)   \n",
    "Success probability is determined by the formula![image-7.png](attachment:image-7.png)\n",
    "with t = number of target states and j = iteration number"
   ]
  },
  {
   "cell_type": "code",
   "execution_count": 2,
   "id": "3904289c",
   "metadata": {},
   "outputs": [
    {
     "name": "stdout",
     "output_type": "stream",
     "text": [
      "noi =  15\n",
      "Optimal noi =  12\n",
      "target =  [61.]\n",
      "phi =  [3.141592653589793]\n",
      "x =  [(-1+1.2246467991473532e-16j)]\n"
     ]
    }
   ],
   "source": [
    "n = 8      #no. of qubits\n",
    "N = 2**n   #dimension of matrix\n",
    "t = 1      #no. of target states\n",
    "length = list(range(n))\n",
    "noi = 15   #taking same number of iteration for all cases\n",
    "noi_opt = math.floor(math.sqrt(N/t) * np.pi / 4)   #optimal No of iterations\n",
    "print(\"noi = \", noi)\n",
    "print(\"Optimal noi = \",noi_opt)\n",
    "\n",
    "#to set target states by randomly generating them\n",
    "target = np.zeros(t)    #to store target states\n",
    "count = 0\n",
    "flag = 0\n",
    "i = 0\n",
    "while(True):\n",
    "    #to generate a random integer for target position\n",
    "    a = random.randint(0,N-1)\n",
    "    \n",
    "    #checking if that number has already been chosen previously as target state\n",
    "    for j in range(count):\n",
    "        if(target[j] == a):\n",
    "            flag = 1  #value is present in the target array\n",
    "            \n",
    "    #to store new value in target array\n",
    "    if(flag == 0):\n",
    "        #to store in count position of target array\n",
    "        target[count] = a\n",
    "        #updating count (position) value\n",
    "        count += 1\n",
    "        #checking for further iteration of while loop\n",
    "        if(count == t):\n",
    "            break\n",
    "print(\"target = \",target)\n",
    "\n",
    "phi = [np.pi]    #setting at a particular value\n",
    "print(\"phi = \",phi)\n",
    "\n",
    "x = [complex(np.cos(a), np.sin(a)) for a in phi]\n",
    "print(\"x = \",x)\n",
    "\n",
    "#array to store coherence values after each suboperation in every grover's iteration\n",
    "l1 = np.zeros(noi)    #to store l1 norm of coherence values after each iteration\n",
    "S  = np.zeros(noi)    #to store relative entropy values after each iteration\n",
    "P  = np.zeros(noi)    #to store success probability after each iteration\n",
    "x_axis = list(range(noi))    #to store iteration number"
   ]
  },
  {
   "cell_type": "code",
   "execution_count": 3,
   "id": "cb292786",
   "metadata": {
    "scrolled": true
   },
   "outputs": [
    {
     "name": "stdout",
     "output_type": "stream",
     "text": [
      "======================================== FOR ϕ =  180.0 ========================================\n"
     ]
    },
    {
     "data": {
      "text/plain": [
       "'initialised |ψ0⟩'"
      ]
     },
     "metadata": {},
     "output_type": "display_data"
    },
    {
     "data": {
      "text/latex": [
       "$$ |00000000\\rangle$$"
      ],
      "text/plain": [
       "<IPython.core.display.Latex object>"
      ]
     },
     "metadata": {},
     "output_type": "display_data"
    },
    {
     "name": "stdout",
     "output_type": "stream",
     "text": [
      "coherence of |ψ0⟩ =  0.0\n"
     ]
    },
    {
     "data": {
      "text/plain": [
       "'applied Hadamard to all |ψ1⟩'"
      ]
     },
     "metadata": {},
     "output_type": "display_data"
    },
    {
     "data": {
      "text/latex": [
       "$$\\frac{1}{16} |00000000\\rangle+\\frac{1}{16} |00000001\\rangle+\\frac{1}{16} |00000010\\rangle+\\frac{1}{16} |00000011\\rangle+\\frac{1}{16} |00000100\\rangle+\\frac{1}{16} |00000101\\rangle + \\ldots +\\frac{1}{16} |11111011\\rangle+\\frac{1}{16} |11111100\\rangle+\\frac{1}{16} |11111101\\rangle+\\frac{1}{16} |11111110\\rangle+\\frac{1}{16} |11111111\\rangle$$"
      ],
      "text/plain": [
       "<IPython.core.display.Latex object>"
      ]
     },
     "metadata": {},
     "output_type": "display_data"
    },
    {
     "name": "stdout",
     "output_type": "stream",
     "text": [
      "coherence of |ψ1⟩ =  255.00000000000003\n",
      "-------- 1  ITERATION--------\n"
     ]
    },
    {
     "data": {
      "text/plain": [
       "'applied O operator to |ψ2⟩'"
      ]
     },
     "metadata": {},
     "output_type": "display_data"
    },
    {
     "data": {
      "text/latex": [
       "$$\\frac{1}{16} |00000000\\rangle+\\frac{1}{16} |00000001\\rangle+\\frac{1}{16} |00000010\\rangle+\\frac{1}{16} |00000011\\rangle+\\frac{1}{16} |00000100\\rangle+\\frac{1}{16} |00000101\\rangle + \\ldots +\\frac{1}{16} |11111011\\rangle+\\frac{1}{16} |11111100\\rangle+\\frac{1}{16} |11111101\\rangle+\\frac{1}{16} |11111110\\rangle+\\frac{1}{16} |11111111\\rangle$$"
      ],
      "text/plain": [
       "<IPython.core.display.Latex object>"
      ]
     },
     "metadata": {},
     "output_type": "display_data"
    },
    {
     "data": {
      "text/plain": [
       "'applied D operator to |ψ2⟩'"
      ]
     },
     "metadata": {},
     "output_type": "display_data"
    },
    {
     "data": {
      "text/latex": [
       "$$\\frac{63}{1024} |00000000\\rangle+\\frac{63}{1024} |00000001\\rangle+\\frac{63}{1024} |00000010\\rangle+\\frac{63}{1024} |00000011\\rangle+\\frac{63}{1024} |00000100\\rangle+\\frac{63}{1024} |00000101\\rangle + \\ldots +\\frac{63}{1024} |11111011\\rangle+\\frac{63}{1024} |11111100\\rangle+\\frac{63}{1024} |11111101\\rangle+\\frac{63}{1024} |11111110\\rangle+\\frac{63}{1024} |11111111\\rangle$$"
      ],
      "text/plain": [
       "<IPython.core.display.Latex object>"
      ]
     },
     "metadata": {},
     "output_type": "display_data"
    },
    {
     "name": "stdout",
     "output_type": "stream",
     "text": [
      "coherence of |ψ2⟩ =  251.015625\n",
      "l1 norm =  251.015625\n",
      "relative entropy =  7.9340986151691055\n",
      "-------- 2  ITERATION--------\n"
     ]
    },
    {
     "data": {
      "text/plain": [
       "'applied O operator to |ψ2⟩'"
      ]
     },
     "metadata": {},
     "output_type": "display_data"
    },
    {
     "data": {
      "text/latex": [
       "$$\\frac{63}{1024} |00000000\\rangle+\\frac{63}{1024} |00000001\\rangle+\\frac{63}{1024} |00000010\\rangle+\\frac{63}{1024} |00000011\\rangle+\\frac{63}{1024} |00000100\\rangle+\\frac{63}{1024} |00000101\\rangle + \\ldots +\\frac{63}{1024} |11111011\\rangle+\\frac{63}{1024} |11111100\\rangle+\\frac{63}{1024} |11111101\\rangle+\\frac{63}{1024} |11111110\\rangle+\\frac{63}{1024} |11111111\\rangle$$"
      ],
      "text/plain": [
       "<IPython.core.display.Latex object>"
      ]
     },
     "metadata": {},
     "output_type": "display_data"
    },
    {
     "data": {
      "text/plain": [
       "'applied D operator to |ψ2⟩'"
      ]
     },
     "metadata": {},
     "output_type": "display_data"
    },
    {
     "data": {
      "text/latex": [
       "$$0.059585571289 |00000000\\rangle+0.059585571289 |00000001\\rangle+0.059585571289 |00000010\\rangle+0.059585571289 |00000011\\rangle+0.059585571289 |00000100\\rangle+0.059585571289 |00000101\\rangle + \\ldots +0.059585571289 |11111011\\rangle+0.059585571289 |11111100\\rangle+0.059585571289 |11111101\\rangle+0.059585571289 |11111110\\rangle+0.059585571289 |11111111\\rangle$$"
      ],
      "text/plain": [
       "<IPython.core.display.Latex object>"
      ]
     },
     "metadata": {},
     "output_type": "display_data"
    },
    {
     "name": "stdout",
     "output_type": "stream",
     "text": [
      "coherence of |ψ2⟩ =  239.3105506896973\n",
      "l1 norm =  239.3105506896973\n",
      "relative entropy =  7.779054835475856\n",
      "-------- 3  ITERATION--------\n"
     ]
    },
    {
     "data": {
      "text/plain": [
       "'applied O operator to |ψ2⟩'"
      ]
     },
     "metadata": {},
     "output_type": "display_data"
    },
    {
     "data": {
      "text/latex": [
       "$$0.059585571289 |00000000\\rangle+0.059585571289 |00000001\\rangle+0.059585571289 |00000010\\rangle+0.059585571289 |00000011\\rangle+0.059585571289 |00000100\\rangle+0.059585571289 |00000101\\rangle + \\ldots +0.059585571289 |11111011\\rangle+0.059585571289 |11111100\\rangle+0.059585571289 |11111101\\rangle+0.059585571289 |11111110\\rangle+0.059585571289 |11111111\\rangle$$"
      ],
      "text/plain": [
       "<IPython.core.display.Latex object>"
      ]
     },
     "metadata": {},
     "output_type": "display_data"
    },
    {
     "data": {
      "text/plain": [
       "'applied D operator to |ψ2⟩'"
      ]
     },
     "metadata": {},
     "output_type": "display_data"
    },
    {
     "data": {
      "text/latex": [
       "$$0.056716680527 |00000000\\rangle+0.056716680527 |00000001\\rangle+0.056716680527 |00000010\\rangle+0.056716680527 |00000011\\rangle+0.056716680527 |00000100\\rangle+0.056716680527 |00000101\\rangle + \\ldots +0.056716680527 |11111011\\rangle+0.056716680527 |11111100\\rangle+0.056716680527 |11111101\\rangle+0.056716680527 |11111110\\rangle+0.056716680527 |11111111\\rangle$$"
      ],
      "text/plain": [
       "<IPython.core.display.Latex object>"
      ]
     },
     "metadata": {},
     "output_type": "display_data"
    },
    {
     "name": "stdout",
     "output_type": "stream",
     "text": [
      "coherence of |ψ2⟩ =  220.61348652932793\n",
      "l1 norm =  220.61348652932793\n",
      "relative entropy =  7.512600913438902\n",
      "-------- 4  ITERATION--------\n"
     ]
    },
    {
     "data": {
      "text/plain": [
       "'applied O operator to |ψ2⟩'"
      ]
     },
     "metadata": {},
     "output_type": "display_data"
    },
    {
     "data": {
      "text/latex": [
       "$$0.056716680527 |00000000\\rangle+0.056716680527 |00000001\\rangle+0.056716680527 |00000010\\rangle+0.056716680527 |00000011\\rangle+0.056716680527 |00000100\\rangle+0.056716680527 |00000101\\rangle + \\ldots +0.056716680527 |11111011\\rangle+0.056716680527 |11111100\\rangle+0.056716680527 |11111101\\rangle+0.056716680527 |11111110\\rangle+0.056716680527 |11111111\\rangle$$"
      ],
      "text/plain": [
       "<IPython.core.display.Latex object>"
      ]
     },
     "metadata": {},
     "output_type": "display_data"
    },
    {
     "data": {
      "text/plain": [
       "'applied D operator to |ψ2⟩'"
      ]
     },
     "metadata": {},
     "output_type": "display_data"
    },
    {
     "data": {
      "text/latex": [
       "$$0.052961591631 |00000000\\rangle+0.052961591631 |00000001\\rangle+0.052961591631 |00000010\\rangle+0.052961591631 |00000011\\rangle+0.052961591631 |00000100\\rangle+0.052961591631 |00000101\\rangle + \\ldots +0.052961591631 |11111011\\rangle+0.052961591631 |11111100\\rangle+0.052961591631 |11111101\\rangle+0.052961591631 |11111110\\rangle+0.052961591631 |11111111\\rangle$$"
      ],
      "text/plain": [
       "<IPython.core.display.Latex object>"
      ]
     },
     "metadata": {},
     "output_type": "display_data"
    },
    {
     "name": "stdout",
     "output_type": "stream",
     "text": [
      "coherence of |ψ2⟩ =  196.08843431623168\n",
      "l1 norm =  196.08843431623168\n",
      "relative entropy =  7.137125488380364\n",
      "-------- 5  ITERATION--------\n"
     ]
    },
    {
     "data": {
      "text/plain": [
       "'applied O operator to |ψ2⟩'"
      ]
     },
     "metadata": {},
     "output_type": "display_data"
    },
    {
     "data": {
      "text/latex": [
       "$$0.052961591631 |00000000\\rangle+0.052961591631 |00000001\\rangle+0.052961591631 |00000010\\rangle+0.052961591631 |00000011\\rangle+0.052961591631 |00000100\\rangle+0.052961591631 |00000101\\rangle + \\ldots +0.052961591631 |11111011\\rangle+0.052961591631 |11111100\\rangle+0.052961591631 |11111101\\rangle+0.052961591631 |11111110\\rangle+0.052961591631 |11111111\\rangle$$"
      ],
      "text/plain": [
       "<IPython.core.display.Latex object>"
      ]
     },
     "metadata": {},
     "output_type": "display_data"
    },
    {
     "data": {
      "text/plain": [
       "'applied D operator to |ψ2⟩'"
      ]
     },
     "metadata": {},
     "output_type": "display_data"
    },
    {
     "data": {
      "text/latex": [
       "$$0.048378977866 |00000000\\rangle+0.048378977866 |00000001\\rangle+0.048378977866 |00000010\\rangle+0.048378977866 |00000011\\rangle+0.048378977866 |00000100\\rangle+0.048378977866 |00000101\\rangle + \\ldots +0.048378977866 |11111011\\rangle+0.048378977866 |11111100\\rangle+0.048378977866 |11111101\\rangle+0.048378977866 |11111110\\rangle+0.048378977866 |11111111\\rangle$$"
      ],
      "text/plain": [
       "<IPython.core.display.Latex object>"
      ]
     },
     "metadata": {},
     "output_type": "display_data"
    },
    {
     "name": "stdout",
     "output_type": "stream",
     "text": [
      "coherence of |ψ2⟩ =  167.26222225130573\n",
      "l1 norm =  167.26222225130573\n",
      "relative entropy =  6.6665831847435175\n",
      "-------- 6  ITERATION--------\n"
     ]
    },
    {
     "data": {
      "text/plain": [
       "'applied O operator to |ψ2⟩'"
      ]
     },
     "metadata": {},
     "output_type": "display_data"
    },
    {
     "data": {
      "text/latex": [
       "$$0.048378977866 |00000000\\rangle+0.048378977866 |00000001\\rangle+0.048378977866 |00000010\\rangle+0.048378977866 |00000011\\rangle+0.048378977866 |00000100\\rangle+0.048378977866 |00000101\\rangle + \\ldots +0.048378977866 |11111011\\rangle+0.048378977866 |11111100\\rangle+0.048378977866 |11111101\\rangle+0.048378977866 |11111110\\rangle+0.048378977866 |11111111\\rangle$$"
      ],
      "text/plain": [
       "<IPython.core.display.Latex object>"
      ]
     },
     "metadata": {},
     "output_type": "display_data"
    },
    {
     "data": {
      "text/plain": [
       "'applied D operator to |ψ2⟩'"
      ]
     },
     "metadata": {},
     "output_type": "display_data"
    },
    {
     "data": {
      "text/latex": [
       "$$0.043040442572 |00000000\\rangle+0.043040442572 |00000001\\rangle+0.043040442572 |00000010\\rangle+0.043040442572 |00000011\\rangle+0.043040442572 |00000100\\rangle+0.043040442572 |00000101\\rangle + \\ldots +0.043040442572 |11111011\\rangle+0.043040442572 |11111100\\rangle+0.043040442572 |11111101\\rangle+0.043040442572 |11111110\\rangle+0.043040442572 |11111111\\rangle$$"
      ],
      "text/plain": [
       "<IPython.core.display.Latex object>"
      ]
     },
     "metadata": {},
     "output_type": "display_data"
    },
    {
     "name": "stdout",
     "output_type": "stream",
     "text": [
      "coherence of |ψ2⟩ =  135.92945094043947\n",
      "l1 norm =  135.92945094043947\n",
      "relative entropy =  6.124565681381039\n",
      "-------- 7  ITERATION--------\n"
     ]
    },
    {
     "data": {
      "text/plain": [
       "'applied O operator to |ψ2⟩'"
      ]
     },
     "metadata": {},
     "output_type": "display_data"
    },
    {
     "data": {
      "text/latex": [
       "$$0.043040442572 |00000000\\rangle+0.043040442572 |00000001\\rangle+0.043040442572 |00000010\\rangle+0.043040442572 |00000011\\rangle+0.043040442572 |00000100\\rangle+0.043040442572 |00000101\\rangle + \\ldots +0.043040442572 |11111011\\rangle+0.043040442572 |11111100\\rangle+0.043040442572 |11111101\\rangle+0.043040442572 |11111110\\rangle+0.043040442572 |11111111\\rangle$$"
      ],
      "text/plain": [
       "<IPython.core.display.Latex object>"
      ]
     },
     "metadata": {},
     "output_type": "display_data"
    },
    {
     "data": {
      "text/plain": [
       "'applied D operator to |ψ2⟩'"
      ]
     },
     "metadata": {},
     "output_type": "display_data"
    },
    {
     "data": {
      "text/latex": [
       "$$0.037029400363 |00000000\\rangle+0.037029400363 |00000001\\rangle+0.037029400363 |00000010\\rangle+0.037029400363 |00000011\\rangle+0.037029400363 |00000100\\rangle+0.037029400363 |00000101\\rangle + \\ldots +0.037029400363 |11111011\\rangle+0.037029400363 |11111100\\rangle+0.037029400363 |11111101\\rangle+0.037029400363 |11111110\\rangle+0.037029400363 |11111111\\rangle$$"
      ],
      "text/plain": [
       "<IPython.core.display.Latex object>"
      ]
     },
     "metadata": {},
     "output_type": "display_data"
    },
    {
     "name": "stdout",
     "output_type": "stream",
     "text": [
      "coherence of |ψ2⟩ =  104.04076898697018\n",
      "l1 norm =  104.04076898697018\n",
      "relative entropy =  5.54273306821225\n",
      "-------- 8  ITERATION--------\n"
     ]
    },
    {
     "data": {
      "text/plain": [
       "'applied O operator to |ψ2⟩'"
      ]
     },
     "metadata": {},
     "output_type": "display_data"
    },
    {
     "data": {
      "text/latex": [
       "$$0.037029400363 |00000000\\rangle+0.037029400363 |00000001\\rangle+0.037029400363 |00000010\\rangle+0.037029400363 |00000011\\rangle+0.037029400363 |00000100\\rangle+0.037029400363 |00000101\\rangle + \\ldots +0.037029400363 |11111011\\rangle+0.037029400363 |11111100\\rangle+0.037029400363 |11111101\\rangle+0.037029400363 |11111110\\rangle+0.037029400363 |11111111\\rangle$$"
      ],
      "text/plain": [
       "<IPython.core.display.Latex object>"
      ]
     },
     "metadata": {},
     "output_type": "display_data"
    },
    {
     "data": {
      "text/plain": [
       "'applied D operator to |ψ2⟩'"
      ]
     },
     "metadata": {},
     "output_type": "display_data"
    },
    {
     "data": {
      "text/latex": [
       "$$0.030439773773 |00000000\\rangle+0.030439773773 |00000001\\rangle+0.030439773773 |00000010\\rangle+0.030439773773 |00000011\\rangle+0.030439773773 |00000100\\rangle+0.030439773773 |00000101\\rangle + \\ldots +0.030439773773 |11111011\\rangle+0.030439773773 |11111100\\rangle+0.030439773773 |11111101\\rangle+0.030439773773 |11111110\\rangle+0.030439773773 |11111111\\rangle$$"
      ],
      "text/plain": [
       "<IPython.core.display.Latex object>"
      ]
     },
     "metadata": {},
     "output_type": "display_data"
    },
    {
     "name": "stdout",
     "output_type": "stream",
     "text": [
      "coherence of |ψ2⟩ =  73.58143369119766\n",
      "l1 norm =  73.58143369119766\n",
      "relative entropy =  4.959362380300027\n",
      "-------- 9  ITERATION--------\n"
     ]
    },
    {
     "data": {
      "text/plain": [
       "'applied O operator to |ψ2⟩'"
      ]
     },
     "metadata": {},
     "output_type": "display_data"
    },
    {
     "data": {
      "text/latex": [
       "$$0.030439773773 |00000000\\rangle+0.030439773773 |00000001\\rangle+0.030439773773 |00000010\\rangle+0.030439773773 |00000011\\rangle+0.030439773773 |00000100\\rangle+0.030439773773 |00000101\\rangle + \\ldots +0.030439773773 |11111011\\rangle+0.030439773773 |11111100\\rangle+0.030439773773 |11111101\\rangle+0.030439773773 |11111110\\rangle+0.030439773773 |11111111\\rangle$$"
      ],
      "text/plain": [
       "<IPython.core.display.Latex object>"
      ]
     },
     "metadata": {},
     "output_type": "display_data"
    },
    {
     "data": {
      "text/plain": [
       "'applied D operator to |ψ2⟩'"
      ]
     },
     "metadata": {},
     "output_type": "display_data"
    },
    {
     "data": {
      "text/latex": [
       "$$0.023374525718 |00000000\\rangle+0.023374525718 |00000001\\rangle+0.023374525718 |00000010\\rangle+0.023374525718 |00000011\\rangle+0.023374525718 |00000100\\rangle+0.023374525718 |00000101\\rangle + \\ldots +0.023374525718 |11111011\\rangle+0.023374525718 |11111100\\rangle+0.023374525718 |11111101\\rangle+0.023374525718 |11111110\\rangle+0.023374525718 |11111111\\rangle$$"
      ],
      "text/plain": [
       "<IPython.core.display.Latex object>"
      ]
     },
     "metadata": {},
     "output_type": "display_data"
    },
    {
     "name": "stdout",
     "output_type": "stream",
     "text": [
      "coherence of |ψ2⟩ =  46.44771714743324\n",
      "l1 norm =  46.44771714743324\n",
      "relative entropy =  4.41814204348784\n",
      "-------- 10  ITERATION--------\n"
     ]
    },
    {
     "data": {
      "text/plain": [
       "'applied O operator to |ψ2⟩'"
      ]
     },
     "metadata": {},
     "output_type": "display_data"
    },
    {
     "data": {
      "text/latex": [
       "$$0.023374525718 |00000000\\rangle+0.023374525718 |00000001\\rangle+0.023374525718 |00000010\\rangle+0.023374525718 |00000011\\rangle+0.023374525718 |00000100\\rangle+0.023374525718 |00000101\\rangle + \\ldots +0.023374525718 |11111011\\rangle+0.023374525718 |11111100\\rangle+0.023374525718 |11111101\\rangle+0.023374525718 |11111110\\rangle+0.023374525718 |11111111\\rangle$$"
      ],
      "text/plain": [
       "<IPython.core.display.Latex object>"
      ]
     },
     "metadata": {},
     "output_type": "display_data"
    },
    {
     "data": {
      "text/plain": [
       "'applied D operator to |ψ2⟩'"
      ]
     },
     "metadata": {},
     "output_type": "display_data"
    },
    {
     "data": {
      "text/latex": [
       "$$0.015944050699 |00000000\\rangle+0.015944050699 |00000001\\rangle+0.015944050699 |00000010\\rangle+0.015944050699 |00000011\\rangle+0.015944050699 |00000100\\rangle+0.015944050699 |00000101\\rangle + \\ldots +0.015944050699 |11111011\\rangle+0.015944050699 |11111100\\rangle+0.015944050699 |11111101\\rangle+0.015944050699 |11111110\\rangle+0.015944050699 |11111111\\rangle$$"
      ],
      "text/plain": [
       "<IPython.core.display.Latex object>"
      ]
     },
     "metadata": {},
     "output_type": "display_data"
    },
    {
     "name": "stdout",
     "output_type": "stream",
     "text": [
      "coherence of |ψ2⟩ =  24.328852197251795\n",
      "l1 norm =  24.328852197251795\n",
      "relative entropy =  3.967759066667486\n",
      "-------- 11  ITERATION--------\n"
     ]
    },
    {
     "data": {
      "text/plain": [
       "'applied O operator to |ψ2⟩'"
      ]
     },
     "metadata": {},
     "output_type": "display_data"
    },
    {
     "data": {
      "text/latex": [
       "$$0.015944050699 |00000000\\rangle+0.015944050699 |00000001\\rangle+0.015944050699 |00000010\\rangle+0.015944050699 |00000011\\rangle+0.015944050699 |00000100\\rangle+0.015944050699 |00000101\\rangle + \\ldots +0.015944050699 |11111011\\rangle+0.015944050699 |11111100\\rangle+0.015944050699 |11111101\\rangle+0.015944050699 |11111110\\rangle+0.015944050699 |11111111\\rangle$$"
      ],
      "text/plain": [
       "<IPython.core.display.Latex object>"
      ]
     },
     "metadata": {},
     "output_type": "display_data"
    },
    {
     "data": {
      "text/plain": [
       "'applied D operator to |ψ2⟩'"
      ]
     },
     "metadata": {},
     "output_type": "display_data"
    },
    {
     "data": {
      "text/latex": [
       "$$0.008264449887 |00000000\\rangle+0.008264449887 |00000001\\rangle+0.008264449887 |00000010\\rangle+0.008264449887 |00000011\\rangle+0.008264449887 |00000100\\rangle+0.008264449887 |00000101\\rangle + \\ldots +0.008264449887 |11111011\\rangle+0.008264449887 |11111100\\rangle+0.008264449887 |11111101\\rangle+0.008264449887 |11111110\\rangle+0.008264449887 |11111111\\rangle$$"
      ],
      "text/plain": [
       "<IPython.core.display.Latex object>"
      ]
     },
     "metadata": {},
     "output_type": "display_data"
    },
    {
     "name": "stdout",
     "output_type": "stream",
     "text": [
      "coherence of |ψ2⟩ =  8.60186778656022\n",
      "l1 norm =  8.60186778656022\n",
      "relative entropy =  3.6640900628342674\n",
      "-------- 12  ITERATION--------\n"
     ]
    },
    {
     "data": {
      "text/plain": [
       "'applied O operator to |ψ2⟩'"
      ]
     },
     "metadata": {},
     "output_type": "display_data"
    },
    {
     "data": {
      "text/latex": [
       "$$0.008264449887 |00000000\\rangle+0.008264449887 |00000001\\rangle+0.008264449887 |00000010\\rangle+0.008264449887 |00000011\\rangle+0.008264449887 |00000100\\rangle+0.008264449887 |00000101\\rangle + \\ldots +0.008264449887 |11111011\\rangle+0.008264449887 |11111100\\rangle+0.008264449887 |11111101\\rangle+0.008264449887 |11111110\\rangle+0.008264449887 |11111111\\rangle$$"
      ],
      "text/plain": [
       "<IPython.core.display.Latex object>"
      ]
     },
     "metadata": {},
     "output_type": "display_data"
    },
    {
     "data": {
      "text/plain": [
       "'applied D operator to |ψ2⟩'"
      ]
     },
     "metadata": {},
     "output_type": "display_data"
    },
    {
     "data": {
      "text/latex": [
       "$$0.000455717046 |00000000\\rangle+0.000455717046 |00000001\\rangle+0.000455717046 |00000010\\rangle+0.000455717046 |00000011\\rangle+0.000455717046 |00000100\\rangle+0.000455717046 |00000101\\rangle + \\ldots +0.000455717046 |11111011\\rangle+0.000455717046 |11111100\\rangle+0.000455717046 |11111101\\rangle+0.000455717046 |11111110\\rangle+0.000455717046 |11111111\\rangle$$"
      ],
      "text/plain": [
       "<IPython.core.display.Latex object>"
      ]
     },
     "metadata": {},
     "output_type": "display_data"
    },
    {
     "name": "stdout",
     "output_type": "stream",
     "text": [
      "coherence of |ψ2⟩ =  0.24586084522741558\n",
      "l1 norm =  0.24586084522741558\n",
      "relative entropy =  3.586021299936114\n",
      "-------- 13  ITERATION--------\n"
     ]
    },
    {
     "data": {
      "text/plain": [
       "'applied O operator to |ψ2⟩'"
      ]
     },
     "metadata": {},
     "output_type": "display_data"
    },
    {
     "data": {
      "text/latex": [
       "$$0.000455717046 |00000000\\rangle+0.000455717046 |00000001\\rangle+0.000455717046 |00000010\\rangle+0.000455717046 |00000011\\rangle+0.000455717046 |00000100\\rangle+0.000455717046 |00000101\\rangle + \\ldots +0.000455717046 |11111011\\rangle+0.000455717046 |11111100\\rangle+0.000455717046 |11111101\\rangle+0.000455717046 |11111110\\rangle+0.000455717046 |11111111\\rangle$$"
      ],
      "text/plain": [
       "<IPython.core.display.Latex object>"
      ]
     },
     "metadata": {},
     "output_type": "display_data"
    },
    {
     "data": {
      "text/plain": [
       "'applied D operator to |ψ2⟩'"
      ]
     },
     "metadata": {},
     "output_type": "display_data"
    },
    {
     "data": {
      "text/latex": [
       "$$-0.007360136374 |00000000\\rangle-0.007360136374 |00000001\\rangle-0.007360136374 |00000010\\rangle-0.007360136374 |00000011\\rangle-0.007360136374 |00000100\\rangle-0.007360136374 |00000101\\rangle + \\ldots -0.007360136374 |11111011\\rangle-0.007360136374 |11111100\\rangle-0.007360136374 |11111101\\rangle-0.007360136374 |11111110\\rangle-0.007360136374 |11111111\\rangle$$"
      ],
      "text/plain": [
       "<IPython.core.display.Latex object>"
      ]
     },
     "metadata": {},
     "output_type": "display_data"
    },
    {
     "name": "stdout",
     "output_type": "stream",
     "text": [
      "coherence of |ψ2⟩ =  7.236348261012412\n",
      "l1 norm =  7.236348261012412\n",
      "relative entropy =  3.86392290377134\n",
      "-------- 14  ITERATION--------\n"
     ]
    },
    {
     "data": {
      "text/plain": [
       "'applied O operator to |ψ2⟩'"
      ]
     },
     "metadata": {},
     "output_type": "display_data"
    },
    {
     "data": {
      "text/latex": [
       "$$-0.007360136374 |00000000\\rangle-0.007360136374 |00000001\\rangle-0.007360136374 |00000010\\rangle-0.007360136374 |00000011\\rangle-0.007360136374 |00000100\\rangle-0.007360136374 |00000101\\rangle + \\ldots -0.007360136374 |11111011\\rangle-0.007360136374 |11111100\\rangle-0.007360136374 |11111101\\rangle-0.007360136374 |11111110\\rangle-0.007360136374 |11111111\\rangle$$"
      ],
      "text/plain": [
       "<IPython.core.display.Latex object>"
      ]
     },
     "metadata": {},
     "output_type": "display_data"
    },
    {
     "data": {
      "text/plain": [
       "'applied D operator to |ψ2⟩'"
      ]
     },
     "metadata": {},
     "output_type": "display_data"
    },
    {
     "data": {
      "text/latex": [
       "$$-0.015060987663 |00000000\\rangle-0.015060987663 |00000001\\rangle-0.015060987663 |00000010\\rangle-0.015060987663 |00000011\\rangle-0.015060987663 |00000100\\rangle-0.015060987663 |00000101\\rangle + \\ldots -0.015060987663 |11111011\\rangle-0.015060987663 |11111100\\rangle-0.015060987663 |11111101\\rangle-0.015060987663 |11111110\\rangle-0.015060987663 |11111111\\rangle$$"
      ],
      "text/plain": [
       "<IPython.core.display.Latex object>"
      ]
     },
     "metadata": {},
     "output_type": "display_data"
    },
    {
     "name": "stdout",
     "output_type": "stream",
     "text": [
      "coherence of |ψ2⟩ =  22.147643816638567\n",
      "l1 norm =  22.147643816638567\n",
      "relative entropy =  4.363995110725165\n",
      "-------- 15  ITERATION--------\n"
     ]
    },
    {
     "data": {
      "text/plain": [
       "'applied O operator to |ψ2⟩'"
      ]
     },
     "metadata": {},
     "output_type": "display_data"
    },
    {
     "data": {
      "text/latex": [
       "$$-0.015060987663 |00000000\\rangle-0.015060987663 |00000001\\rangle-0.015060987663 |00000010\\rangle-0.015060987663 |00000011\\rangle-0.015060987663 |00000100\\rangle-0.015060987663 |00000101\\rangle + \\ldots -0.015060987663 |11111011\\rangle-0.015060987663 |11111100\\rangle-0.015060987663 |11111101\\rangle-0.015060987663 |11111110\\rangle-0.015060987663 |11111111\\rangle$$"
      ],
      "text/plain": [
       "<IPython.core.display.Latex object>"
      ]
     },
     "metadata": {},
     "output_type": "display_data"
    },
    {
     "data": {
      "text/plain": [
       "'applied D operator to |ψ2⟩'"
      ]
     },
     "metadata": {},
     "output_type": "display_data"
    },
    {
     "data": {
      "text/latex": [
       "$$-0.022526511019 |00000000\\rangle-0.022526511019 |00000001\\rangle-0.022526511019 |00000010\\rangle-0.022526511019 |00000011\\rangle-0.022526511019 |00000100\\rangle-0.022526511019 |00000101\\rangle + \\ldots -0.022526511019 |11111011\\rangle-0.022526511019 |11111100\\rangle-0.022526511019 |11111101\\rangle-0.022526511019 |11111110\\rangle-0.022526511019 |11111111\\rangle$$"
      ],
      "text/plain": [
       "<IPython.core.display.Latex object>"
      ]
     },
     "metadata": {},
     "output_type": "display_data"
    },
    {
     "name": "stdout",
     "output_type": "stream",
     "text": [
      "coherence of |ψ2⟩ =  43.58661291398987\n",
      "l1 norm =  43.58661291398987\n",
      "relative entropy =  4.9810446712477034\n"
     ]
    }
   ],
   "source": [
    "def iteration(i,a):\n",
    "    qc.barrier()\n",
    "    #count = i*2\n",
    "    copy_i = i    #storing copy of iteration number\n",
    "    copy_a = a    #storing copy of phi value\n",
    "    \n",
    "    #applying O operator\n",
    "    qc.append(O_operator,length)\n",
    "    result = execute(qc, backend).result()\n",
    "    state = result.get_statevector()\n",
    "    display(\"applied O operator to |ψ2⟩\", state.draw('latex'))\n",
    "    \n",
    "    #Applying D operator\n",
    "    qc.append(D_operator,length)\n",
    "    result = execute(qc, backend).result()\n",
    "    state = result.get_statevector()\n",
    "    display(\"applied D operator to |ψ2⟩\", state.draw('latex'))\n",
    "    density_operator = state.to_operator()\n",
    "    \n",
    "    #calculating coherence by l1 norm\n",
    "    coherence = 0\n",
    "    for i in range(N):\n",
    "        for j in range(N):\n",
    "            if(i != j):\n",
    "                coherence += abs(density_operator.data[i,j])\n",
    "    print(\"coherence of |ψ2⟩ = \",coherence)\n",
    "    l1[copy_i] = coherence\n",
    "    print(\"l1 norm = \",coherence)\n",
    "    \n",
    "    #calculating coherence by relative entropy\n",
    "    j = copy_i+1   #to store the actual iteration number \n",
    "    alpha = 2*np.arctan(np.sqrt(t/(N-t)))\n",
    "    alpha_j = (j+1/2.0)*alpha    \n",
    "    a = np.sin(alpha_j)\n",
    "    a_2 = a**2\n",
    "    H = -(a_2*math.log2(a_2)+(1-a_2)*math.log2(1-a_2))\n",
    "    Cr = H+math.log2(N-j)+a_2*math.log2(j/(N-j))\n",
    "    S[copy_i] = Cr\n",
    "    print(\"relative entropy = \",Cr)\n",
    "    \n",
    "    #calculating success probability\n",
    "    P[copy_i] = np.sin(alpha_j)**2\n",
    "    \n",
    "for a in range(len(phi)):\n",
    "    print(\"======================================== FOR ϕ = \", phi[a]*180/np.pi,\"========================================\")\n",
    "    qc = QuantumCircuit(n)\n",
    "    backend = Aer.get_backend('statevector_simulator')\n",
    "    result = execute(qc, backend).result()\n",
    "    state = result.get_statevector()\n",
    "    display(\"initialised |ψ0⟩\", state.draw('latex'))\n",
    "    density_operator = state.to_operator()\n",
    "    #print(density_operator.data)\n",
    "    coherence = 0\n",
    "    for i in range(N):\n",
    "        for j in range(N):\n",
    "            if(i != j):\n",
    "                coherence += abs(density_operator.data[i,j])\n",
    "    print(\"coherence of |ψ0⟩ = \",coherence)\n",
    "\n",
    "    qc.h(length)\n",
    "    result = execute(qc, backend).result()\n",
    "    state = result.get_statevector()\n",
    "    display(\"applied Hadamard to all |ψ1⟩\", state.draw('latex'))\n",
    "    density_operator = state.to_operator()\n",
    "    #print(density_operator.data)\n",
    "    coherence = 0\n",
    "    for i in range(N):\n",
    "        for j in range(N):\n",
    "            if(i != j):\n",
    "                coherence += abs(density_operator.data[i,j])\n",
    "    print(\"coherence of |ψ1⟩ = \",coherence)\n",
    "\n",
    "    #defining generalised O Operator\n",
    "    count = 0\n",
    "    choice = a\n",
    "    O_operator = Operator(np.zeros((N,N)))\n",
    "    for i in range(N):\n",
    "        for j in range(N):\n",
    "            if(i != j):   #off diagonal elements\n",
    "                O_operator.data[i][j] = 0\n",
    "            else:    #diagonal elements\n",
    "                flag = 0\n",
    "                for k in range(t):\n",
    "                    if(i == target[k]):\n",
    "                        O_operator.data[i][j] = x[choice]\n",
    "                        count += 1\n",
    "                        flag = 1\n",
    "                        break\n",
    "                if(flag == 0):\n",
    "                    O_operator.data[i][j] = 1            \n",
    "   \n",
    "    #defining D operator\n",
    "    D_operator = Operator(np.zeros((N,N)))\n",
    "    for i in range(N):\n",
    "        for j in range(N):\n",
    "            if(i == j):    #for diagonal elements\n",
    "                D_operator.data[i][j] = 2*density_operator.data[i][j]-1\n",
    "            else:          #for off-diagonal elements\n",
    "                D_operator.data[i][j] = 2*density_operator.data[i][j]\n",
    "    \n",
    "    #sending out for x iterations of grover's operator\n",
    "    for i in range(noi):\n",
    "        print(\"--------\",(i+1),\" ITERATION--------\")\n",
    "        iteration(i,a)    #a takes angle phi and i takes noi"
   ]
  },
  {
   "cell_type": "code",
   "execution_count": 8,
   "id": "fd1f8d7d",
   "metadata": {},
   "outputs": [
    {
     "name": "stdout",
     "output_type": "stream",
     "text": [
      "l1 =  [0.98052978515625, 0.93480683863163, 0.8617714317551872, 0.76597044654778, 0.653368055669163, 0.5309744177360917, 0.40640925385535226, 0.28742747535624086, 0.18143639510716109, 0.09503457889551482, 0.03360104604125086, 0.0009603939266695921, 0.028266985394579735, 0.0865142336587444, 0.17026020669527292]\n",
      "S_N =  [0.03099257271550432, 0.030386932951077562, 0.029346097318120712, 0.027879396438985796, 0.026041340565404365, 0.023924084692894684, 0.021651301047704102, 0.01937250929804698, 0.017258367357374373, 0.015499058854169866, 0.014312851807946357, 0.014007895702875445, 0.015093448842856797, 0.017046855901270176, 0.01945720574706134]\n",
      "P =  [0.03479099 0.09463772 0.17972063 0.2847428  0.403166   0.52761768\n",
      " 0.65034999 0.76372214 0.86067604 0.93517575 0.98258321 0.99994704\n",
      " 0.98618624 0.9421575  0.87060186]\n"
     ]
    },
    {
     "data": {
      "image/png": "[encoded data removed]",
      "text/plain": [
       "<Figure size 640x480 with 2 Axes>"
      ]
     },
     "metadata": {},
     "output_type": "display_data"
    }
   ],
   "source": [
    "l1_N = [a/N for a in l1]\n",
    "S_N  = [a/N for a in S]\n",
    "xa   = [a+1 for a in x_axis]\n",
    "\n",
    "print(\"l1 = \",l1_N)\n",
    "print(\"S_N = \",S_N)\n",
    "print(\"P = \",P)\n",
    "\n",
    "fig, ax1 = pl.subplots()\n",
    "pl.title(\"n = {} and t = {}\".format(n, t))\n",
    "color1 = 'tab:red'\n",
    "color2 = 'black'\n",
    "ax1.set_xlabel('----Number of iterations----')\n",
    "ax1.scatter(xa, l1_N, marker='d', color=color1, label='l1_norm/N')\n",
    "ax1.plot(xa, l1_N, color=color1)\n",
    "ax1.scatter(xa, P, color=color2, label='success probability')\n",
    "ax1.plot(xa, P, color=color2)\n",
    "pl.legend()\n",
    "ax1.set_ylabel(\"l1 norm and success probability\")\n",
    "pl.grid(True)\n",
    "\n",
    "ax2 = ax1.twinx()\n",
    "color = 'tab:blue'\n",
    "ax2.scatter(xa, S_N, color=color, label='S/N')\n",
    "ax2.plot(xa, S_N, color=color)\n",
    "pl.legend()\n",
    "ax2.set_ylabel('relatove entropy', color=color)\n",
    "ax2.tick_params(axis='y', labelcolor=color)\n",
    "\n",
    "fig.tight_layout()\n",
    "#pl.grid(True)\n",
    "pl.show()"
   ]
  },
  {
   "cell_type": "code",
   "execution_count": null,
   "id": "c87090b0",
   "metadata": {},
   "outputs": [],
   "source": []
  }
 ],
 "metadata": {
  "kernelspec": {
   "display_name": "Python 3 (ipykernel)",
   "language": "python",
   "name": "python3"
  },
  "language_info": {
   "codemirror_mode": {
    "name": "ipython",
    "version": 3
   },
   "file_extension": ".py",
   "mimetype": "text/x-python",
   "name": "python",
   "nbconvert_exporter": "python",
   "pygments_lexer": "ipython3",
   "version": "3.9.13"
  }
 },
 "nbformat": 4,
 "nbformat_minor": 5
}
